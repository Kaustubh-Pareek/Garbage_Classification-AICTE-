{
 "cells": [
  {
   "cell_type": "code",
   "execution_count": null,
   "id": "6f76399e",
   "metadata": {},
   "outputs": [],
   "source": [
    "import tensorflow as tf \n",
    "from tensorflow.keras import layers, models, optimizers, callbacks   \n",
    "from tensorflow.keras.models import Sequential, load_model  \n",
    "from tensorflow.keras.applications import EfficientNetV2B0  \n",
    "from tensorflow.keras.applications.efficientnet import preprocess_input  \n",
    "import numpy as np  \n",
    "import matplotlib.pyplot as plt   \n",
    "import seaborn as sns\n"
   ]
  }
 ],
 "metadata": {
  "kernelspec": {
   "display_name": "venv",
   "language": "python",
   "name": "python3"
  },
  "language_info": {
   "name": "python",
   "version": "3.12.7"
  }
 },
 "nbformat": 4,
 "nbformat_minor": 5
}
